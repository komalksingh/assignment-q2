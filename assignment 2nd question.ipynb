{
 "cells": [
  {
   "cell_type": "code",
   "execution_count": 1,
   "id": "83585754",
   "metadata": {},
   "outputs": [
    {
     "name": "stdout",
     "output_type": "stream",
     "text": [
      "The original string  is : 1234abcd\n",
      "The reversed string(using loops) is : dcba4321\n"
     ]
    }
   ],
   "source": [
    "## Python code to reverse a string  \n",
    "\n",
    "  \n",
    "\n",
    "def reverse(s): \n",
    "\n",
    "  str = \"\" \n",
    "\n",
    "  for i in s: \n",
    "\n",
    "    str = i + str\n",
    "\n",
    "  return str\n",
    "\n",
    "  \n",
    "\n",
    "s = \"1234abcd\"\n",
    "\n",
    "  \n",
    "\n",
    "print (\"The original string  is : \",end=\"\") \n",
    "\n",
    "print (s) \n",
    "\n",
    "  \n",
    "\n",
    "print (\"The reversed string(using loops) is : \",end=\"\")\n",
    "print(reverse(s))"
   ]
  },
  {
   "cell_type": "code",
   "execution_count": null,
   "id": "df5c7bf7",
   "metadata": {},
   "outputs": [],
   "source": []
  }
 ],
 "metadata": {
  "kernelspec": {
   "display_name": "Python 3 (ipykernel)",
   "language": "python",
   "name": "python3"
  },
  "language_info": {
   "codemirror_mode": {
    "name": "ipython",
    "version": 3
   },
   "file_extension": ".py",
   "mimetype": "text/x-python",
   "name": "python",
   "nbconvert_exporter": "python",
   "pygments_lexer": "ipython3",
   "version": "3.10.1"
  }
 },
 "nbformat": 4,
 "nbformat_minor": 5
}
